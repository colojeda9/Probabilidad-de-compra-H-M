{
 "cells": [
  {
   "cell_type": "markdown",
   "id": "c5535f1f",
   "metadata": {},
   "source": [
    "# Datos sacados de kaggle ( probabilidades de compra siendo mujer u hombre)\n"
   ]
  },
  {
   "cell_type": "code",
   "execution_count": 1,
   "id": "47ff8d50",
   "metadata": {},
   "outputs": [],
   "source": [
    "import pandas as pd\n",
    "import numpy as np\n",
    "import matplotlib.pyplot as plt"
   ]
  },
  {
   "cell_type": "code",
   "execution_count": 3,
   "id": "41e965a7",
   "metadata": {},
   "outputs": [
    {
     "data": {
      "text/html": [
       "<div>\n",
       "<style scoped>\n",
       "    .dataframe tbody tr th:only-of-type {\n",
       "        vertical-align: middle;\n",
       "    }\n",
       "\n",
       "    .dataframe tbody tr th {\n",
       "        vertical-align: top;\n",
       "    }\n",
       "\n",
       "    .dataframe thead th {\n",
       "        text-align: right;\n",
       "    }\n",
       "</style>\n",
       "<table border=\"1\" class=\"dataframe\">\n",
       "  <thead>\n",
       "    <tr style=\"text-align: right;\">\n",
       "      <th></th>\n",
       "      <th>Gender</th>\n",
       "      <th>Purchase</th>\n",
       "    </tr>\n",
       "  </thead>\n",
       "  <tbody>\n",
       "    <tr>\n",
       "      <th>0</th>\n",
       "      <td>Female</td>\n",
       "      <td>Yes</td>\n",
       "    </tr>\n",
       "    <tr>\n",
       "      <th>1</th>\n",
       "      <td>Female</td>\n",
       "      <td>Yes</td>\n",
       "    </tr>\n",
       "    <tr>\n",
       "      <th>2</th>\n",
       "      <td>Female</td>\n",
       "      <td>No</td>\n",
       "    </tr>\n",
       "    <tr>\n",
       "      <th>3</th>\n",
       "      <td>Male</td>\n",
       "      <td>No</td>\n",
       "    </tr>\n",
       "    <tr>\n",
       "      <th>4</th>\n",
       "      <td>Male</td>\n",
       "      <td>Yes</td>\n",
       "    </tr>\n",
       "    <tr>\n",
       "      <th>...</th>\n",
       "      <td>...</td>\n",
       "      <td>...</td>\n",
       "    </tr>\n",
       "    <tr>\n",
       "      <th>506</th>\n",
       "      <td>Male</td>\n",
       "      <td>Yes</td>\n",
       "    </tr>\n",
       "    <tr>\n",
       "      <th>507</th>\n",
       "      <td>Female</td>\n",
       "      <td>Yes</td>\n",
       "    </tr>\n",
       "    <tr>\n",
       "      <th>508</th>\n",
       "      <td>Male</td>\n",
       "      <td>No</td>\n",
       "    </tr>\n",
       "    <tr>\n",
       "      <th>509</th>\n",
       "      <td>Female</td>\n",
       "      <td>Yes</td>\n",
       "    </tr>\n",
       "    <tr>\n",
       "      <th>510</th>\n",
       "      <td>Female</td>\n",
       "      <td>Yes</td>\n",
       "    </tr>\n",
       "  </tbody>\n",
       "</table>\n",
       "<p>511 rows × 2 columns</p>\n",
       "</div>"
      ],
      "text/plain": [
       "     Gender Purchase\n",
       "0    Female      Yes\n",
       "1    Female      Yes\n",
       "2    Female       No\n",
       "3      Male       No\n",
       "4      Male      Yes\n",
       "..      ...      ...\n",
       "506    Male      Yes\n",
       "507  Female      Yes\n",
       "508    Male       No\n",
       "509  Female      Yes\n",
       "510  Female      Yes\n",
       "\n",
       "[511 rows x 2 columns]"
      ]
     },
     "execution_count": 3,
     "metadata": {},
     "output_type": "execute_result"
    }
   ],
   "source": [
    "data = pd.read_csv(\"/Users/Acer/Desktop/Trabajos-subidos/Trabajos-por-hacer/gender-purchase/Gender Purchase.csv\")\n",
    "data"
   ]
  },
  {
   "cell_type": "code",
   "execution_count": 4,
   "id": "75c13a23",
   "metadata": {},
   "outputs": [
    {
     "data": {
      "text/html": [
       "<div>\n",
       "<style scoped>\n",
       "    .dataframe tbody tr th:only-of-type {\n",
       "        vertical-align: middle;\n",
       "    }\n",
       "\n",
       "    .dataframe tbody tr th {\n",
       "        vertical-align: top;\n",
       "    }\n",
       "\n",
       "    .dataframe thead th {\n",
       "        text-align: right;\n",
       "    }\n",
       "</style>\n",
       "<table border=\"1\" class=\"dataframe\">\n",
       "  <thead>\n",
       "    <tr style=\"text-align: right;\">\n",
       "      <th>Purchase</th>\n",
       "      <th>No</th>\n",
       "      <th>Yes</th>\n",
       "    </tr>\n",
       "    <tr>\n",
       "      <th>Gender</th>\n",
       "      <th></th>\n",
       "      <th></th>\n",
       "    </tr>\n",
       "  </thead>\n",
       "  <tbody>\n",
       "    <tr>\n",
       "      <th>Female</th>\n",
       "      <td>106</td>\n",
       "      <td>159</td>\n",
       "    </tr>\n",
       "    <tr>\n",
       "      <th>Male</th>\n",
       "      <td>125</td>\n",
       "      <td>121</td>\n",
       "    </tr>\n",
       "  </tbody>\n",
       "</table>\n",
       "</div>"
      ],
      "text/plain": [
       "Purchase   No  Yes\n",
       "Gender            \n",
       "Female    106  159\n",
       "Male      125  121"
      ]
     },
     "execution_count": 4,
     "metadata": {},
     "output_type": "execute_result"
    }
   ],
   "source": [
    "#creamos una variable de contingencia para crusar filas y columnas\n",
    "\n",
    "contigency_table = pd.crosstab(data[\"Gender\"], data[\"Purchase\"])\n",
    "contigency_table"
   ]
  },
  {
   "cell_type": "markdown",
   "id": "70b91f99",
   "metadata": {},
   "source": [
    "* Vemos que 106 mujeres NO compraron y 159 SI lo hicieron, mientras 125 Hombres no lo hicieron y 121 Si lo hicieron"
   ]
  },
  {
   "cell_type": "code",
   "execution_count": 6,
   "id": "e3500d19",
   "metadata": {},
   "outputs": [
    {
     "data": {
      "text/plain": [
       "Gender\n",
       "Female    265\n",
       "Male      246\n",
       "dtype: int64"
      ]
     },
     "execution_count": 6,
     "metadata": {},
     "output_type": "execute_result"
    }
   ],
   "source": [
    "contigency_table.sum(axis=1)"
   ]
  },
  {
   "cell_type": "markdown",
   "id": "5eb52549",
   "metadata": {},
   "source": [
    "* Cantidad de mujeres y hombres"
   ]
  },
  {
   "cell_type": "code",
   "execution_count": 7,
   "id": "583bee21",
   "metadata": {},
   "outputs": [
    {
     "data": {
      "text/plain": [
       "Purchase\n",
       "No     231\n",
       "Yes    280\n",
       "dtype: int64"
      ]
     },
     "execution_count": 7,
     "metadata": {},
     "output_type": "execute_result"
    }
   ],
   "source": [
    "contigency_table.sum(axis=0)"
   ]
  },
  {
   "cell_type": "markdown",
   "id": "96de124e",
   "metadata": {},
   "source": [
    "* Cantidad de \"persona\" que compro y no compro"
   ]
  },
  {
   "cell_type": "code",
   "execution_count": 9,
   "id": "f573c4d4",
   "metadata": {},
   "outputs": [
    {
     "data": {
      "text/html": [
       "<div>\n",
       "<style scoped>\n",
       "    .dataframe tbody tr th:only-of-type {\n",
       "        vertical-align: middle;\n",
       "    }\n",
       "\n",
       "    .dataframe tbody tr th {\n",
       "        vertical-align: top;\n",
       "    }\n",
       "\n",
       "    .dataframe thead th {\n",
       "        text-align: right;\n",
       "    }\n",
       "</style>\n",
       "<table border=\"1\" class=\"dataframe\">\n",
       "  <thead>\n",
       "    <tr style=\"text-align: right;\">\n",
       "      <th>Purchase</th>\n",
       "      <th>No</th>\n",
       "      <th>Yes</th>\n",
       "    </tr>\n",
       "    <tr>\n",
       "      <th>Gender</th>\n",
       "      <th></th>\n",
       "      <th></th>\n",
       "    </tr>\n",
       "  </thead>\n",
       "  <tbody>\n",
       "    <tr>\n",
       "      <th>Female</th>\n",
       "      <td>40.000000</td>\n",
       "      <td>60.000000</td>\n",
       "    </tr>\n",
       "    <tr>\n",
       "      <th>Male</th>\n",
       "      <td>50.813008</td>\n",
       "      <td>49.186992</td>\n",
       "    </tr>\n",
       "  </tbody>\n",
       "</table>\n",
       "</div>"
      ],
      "text/plain": [
       "Purchase         No        Yes\n",
       "Gender                        \n",
       "Female    40.000000  60.000000\n",
       "Male      50.813008  49.186992"
      ]
     },
     "execution_count": 9,
     "metadata": {},
     "output_type": "execute_result"
    }
   ],
   "source": [
    "contigency_table.astype(\"float\").div(contigency_table.sum(axis=1),axis=0)*100"
   ]
  },
  {
   "cell_type": "markdown",
   "id": "0d7681f1",
   "metadata": {},
   "source": [
    "* Porcentaje tanto de hombre o de mujeres de si compraron o no en la Web \n",
    "    * La probabilidad que una mujer compre es de 60% y del hombre un 49.18%"
   ]
  },
  {
   "cell_type": "code",
   "execution_count": 14,
   "id": "fe52e3fd",
   "metadata": {},
   "outputs": [
    {
     "name": "stdout",
     "output_type": "stream",
     "text": [
      "Probabilidad de que compre siendo HOMBRE\n",
      "% 49.1869918699187\n",
      "Probabilidad de que NO compre siendo HOMBRE\n",
      "% 50.81300813008131\n",
      "Probabilidad de que compre siendo MUJER\n",
      "% 60.0\n",
      "Probabilidad de que NO compre siendo MUJER\n",
      "% 40.0\n"
     ]
    }
   ],
   "source": [
    "print(\"Probabilidad de que compre siendo HOMBRE\")\n",
    "print(\"%\",121/246*100)\n",
    "\n",
    "print(\"Probabilidad de que NO compre siendo HOMBRE\")\n",
    "print(\"%\",125/246*100)\n",
    "\n",
    "print(\"Probabilidad de que compre siendo MUJER\")\n",
    "print(\"%\",159/265*100)\n",
    "\n",
    "print(\"Probabilidad de que NO compre siendo MUJER\")\n",
    "print(\"%\",106/265*100)"
   ]
  },
  {
   "cell_type": "code",
   "execution_count": 17,
   "id": "60889bf2",
   "metadata": {},
   "outputs": [
    {
     "name": "stdout",
     "output_type": "stream",
     "text": [
      "Ratio de compra siendo hombre = 0.9680000000000002\n",
      "Ratio de compra siendo mujer = 1.4999999999999998\n"
     ]
    }
   ],
   "source": [
    "compra_h = 121/246\n",
    "compra_m = 159/265\n",
    "\n",
    "odds_h = compra_h/(1-compra_h)\n",
    "odds_m = compra_m/(1-compra_m)\n",
    "\n",
    "print(\"Ratio de compra siendo hombre =\", odds_h)\n",
    "print(\"Ratio de compra siendo mujer =\", odds_m)"
   ]
  },
  {
   "cell_type": "code",
   "execution_count": 20,
   "id": "f5063ef5",
   "metadata": {},
   "outputs": [
    {
     "data": {
      "text/plain": [
       "(0.6453333333333335, 1.5495867768595035)"
      ]
     },
     "execution_count": 20,
     "metadata": {},
     "output_type": "execute_result"
    }
   ],
   "source": [
    "odds_ratio = odds_h/odds_m\n",
    "\n",
    "odds_ratio1 = odds_m/odds_h\n",
    "\n",
    "odds_ratio , odds_ratio1"
   ]
  },
  {
   "cell_type": "markdown",
   "id": "972d8006",
   "metadata": {},
   "source": [
    "* Invertimos el denominador en ambas cuentas para saber quien tiene mayor Numero (mas propenso a tener exito) vemos que el mayor ratio lo tiene **la mujer = 1.54 y el hombre = 0.64**"
   ]
  },
  {
   "cell_type": "code",
   "execution_count": null,
   "id": "e710bd52",
   "metadata": {},
   "outputs": [],
   "source": []
  },
  {
   "cell_type": "code",
   "execution_count": null,
   "id": "4dd9ae90",
   "metadata": {},
   "outputs": [],
   "source": []
  },
  {
   "cell_type": "code",
   "execution_count": null,
   "id": "4650283a",
   "metadata": {},
   "outputs": [],
   "source": []
  },
  {
   "cell_type": "code",
   "execution_count": null,
   "id": "30ca20a2",
   "metadata": {},
   "outputs": [],
   "source": []
  },
  {
   "cell_type": "code",
   "execution_count": null,
   "id": "b6b933fc",
   "metadata": {},
   "outputs": [],
   "source": []
  },
  {
   "cell_type": "code",
   "execution_count": null,
   "id": "a98e1cc9",
   "metadata": {},
   "outputs": [],
   "source": []
  },
  {
   "cell_type": "code",
   "execution_count": null,
   "id": "0327c4f6",
   "metadata": {},
   "outputs": [],
   "source": []
  }
 ],
 "metadata": {
  "kernelspec": {
   "display_name": "Python 3 (ipykernel)",
   "language": "python",
   "name": "python3"
  },
  "language_info": {
   "codemirror_mode": {
    "name": "ipython",
    "version": 3
   },
   "file_extension": ".py",
   "mimetype": "text/x-python",
   "name": "python",
   "nbconvert_exporter": "python",
   "pygments_lexer": "ipython3",
   "version": "3.8.13"
  }
 },
 "nbformat": 4,
 "nbformat_minor": 5
}
